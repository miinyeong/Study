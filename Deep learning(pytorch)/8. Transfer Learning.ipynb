{
 "cells": [
  {
   "cell_type": "markdown",
   "metadata": {
    "id": "NKrHkFA1gDbM"
   },
   "source": [
    "# 8. 전이학습(Transfer Learning)\n",
    "\n",
    "전이학습이란 기존의 잘 알려진 데이터 혹은 사전학습 된 모델을 업무 효율 증대나 도메인 확장을 위해 사용하는 학습을 의미한다. 따라서 전이학습은 인공지능 분야에서 매우 중요한 연구 중 하나이며 다양한 방법론들이 존재한다. 8강에서는 잘 학습 된 모델을 재사용하는 방법에 대해서 설명한다."
   ]
  },
  {
   "cell_type": "code",
   "execution_count": null,
   "metadata": {
    "id": "ADRzd6KcgDbX"
   },
   "outputs": [],
   "source": [
    "import torch\n",
    "import torchvision\n",
    "import torchvision.transforms as transforms\n",
    "from torch.utils.data import DataLoader\n",
    "\n",
    "import torch.nn as nn\n",
    "import torch.optim as optim"
   ]
  },
  {
   "cell_type": "code",
   "execution_count": null,
   "metadata": {
    "colab": {
     "base_uri": "https://localhost:8080/"
    },
    "executionInfo": {
     "elapsed": 25734,
     "status": "ok",
     "timestamp": 1608557802080,
     "user": {
      "displayName": "딥러닝호형",
      "photoUrl": "",
      "userId": "11263585794403583722"
     },
     "user_tz": -60
    },
    "id": "0XbcCLckgmrI",
    "outputId": "8e259c73-4773-455b-ff97-aa6ca3371650"
   },
   "outputs": [],
   "source": [
    "from google.colab import drive\n",
    "drive.mount('/content/gdrive')"
   ]
  },
  {
   "cell_type": "code",
   "execution_count": null,
   "metadata": {
    "colab": {
     "base_uri": "https://localhost:8080/"
    },
    "executionInfo": {
     "elapsed": 25732,
     "status": "ok",
     "timestamp": 1608557802081,
     "user": {
      "displayName": "딥러닝호형",
      "photoUrl": "",
      "userId": "11263585794403583722"
     },
     "user_tz": -60
    },
    "id": "Y-DhYLtFgqJT",
    "outputId": "f6b947d6-cfa5-4e3f-9b0b-75a1b7e07ff3"
   },
   "outputs": [],
   "source": [
    "cd/content/gdrive/My Drive/deeplearningbro/pytorch"
   ]
  },
  {
   "cell_type": "markdown",
   "metadata": {
    "id": "b30SV2G4gDbY"
   },
   "source": [
    "## 8.1 GPU 연산 확인\n",
    "빠른 병렬 처리를 위하여 CPU보다는 GPU연산이 사용된다. CUDA를 사용할 수 있는 NVIDIA 그래픽이 있다면 CUDA 버전과 torch 버전을 맞춰 본인의 컴퓨터를 세팅하도록 한다. 우리는 이런 수고스러움을 덜기 위해 무료로 GPU 연산을 제공하는 Google Colaboratory(이하 코랩)을 이용할 것이다. 코랩은 별도의 설치 없이 누구나 무료로 GPU를 사용할 수 있다."
   ]
  },
  {
   "cell_type": "code",
   "execution_count": null,
   "metadata": {
    "colab": {
     "base_uri": "https://localhost:8080/"
    },
    "executionInfo": {
     "elapsed": 25729,
     "status": "ok",
     "timestamp": 1608557802081,
     "user": {
      "displayName": "딥러닝호형",
      "photoUrl": "",
      "userId": "11263585794403583722"
     },
     "user_tz": -60
    },
    "id": "6v9TFpDagDbY",
    "outputId": "4452cdde-5cb7-4bca-fed1-1725ba4ba72d"
   },
   "outputs": [],
   "source": [
    "# GPU vs CPU\n",
    "# 현재 가능한 장치를 확인한다.\n",
    "device = torch.device(\"cuda:0\" if torch.cuda.is_available() else \"cpu\")\n",
    "print(device)"
   ]
  },
  {
   "cell_type": "markdown",
   "metadata": {
    "id": "aQ3NlR64gDba"
   },
   "source": [
    "## **8.2** CIFAR10 데이터 불러오기"
   ]
  },
  {
   "cell_type": "code",
   "execution_count": null,
   "metadata": {
    "colab": {
     "base_uri": "https://localhost:8080/"
    },
    "executionInfo": {
     "elapsed": 38393,
     "status": "ok",
     "timestamp": 1608557814748,
     "user": {
      "displayName": "딥러닝호형",
      "photoUrl": "",
      "userId": "11263585794403583722"
     },
     "user_tz": -60
    },
    "id": "lrDNzaSxgDba",
    "outputId": "fd464149-d487-4493-be6c-075d074df2da"
   },
   "outputs": [],
   "source": [
    "# 데이터 불러오기 및 전처리 작업\n",
    "transform = transforms.Compose(\n",
    "    [transforms.RandomCrop(32, padding=4),\n",
    "     transforms.ToTensor(),\n",
    "     transforms.Normalize((0.5, 0.5, 0.5), (0.5, 0.5, 0.5))])\n",
    "\n",
    "test_transform = transforms.Compose(\n",
    "    [transforms.ToTensor(),\n",
    "     transforms.Normalize((0.5, 0.5, 0.5), (0.5, 0.5, 0.5))])\n",
    "\n",
    "trainset = torchvision.datasets.CIFAR10(root='./data', train=True,\n",
    "                                        download=True, transform=transform)\n",
    "\n",
    "trainloader = torch.utils.data.DataLoader(trainset, batch_size=16, shuffle=True) \n",
    "\n",
    "testset = torchvision.datasets.CIFAR10(root='./data', train=False, download=True, transform=test_transform)\n",
    "testloader = torch.utils.data.DataLoader(testset, batch_size=16,shuffle=False)\n",
    "\n",
    "# Class\n",
    "#'plane', 'car', 'bird', 'cat', 'deer', 'dog', 'frog', 'horse', 'ship', 'truck'"
   ]
  },
  {
   "cell_type": "markdown",
   "metadata": {
    "id": "iYrZolM7gDbb"
   },
   "source": [
    "## **8.3** Pretrained model 불러오기\n",
    "파이토치에서는 다양한 사전 학습 된 모델을 제공하고 있다.\n",
    "https://pytorch.org/docs/stable/torchvision/models.html"
   ]
  },
  {
   "cell_type": "code",
   "execution_count": null,
   "metadata": {
    "colab": {
     "base_uri": "https://localhost:8080/",
     "height": 83,
     "referenced_widgets": [
      "e5be1f99736e4fbea8ce99af78acb886",
      "b0bfbcbf9b0c4d8faa8f032215ae3705",
      "5df10a3a4466436fbe79a1ff7144229a",
      "a6dd07cd17224fc381ead72762cef581",
      "632feef6c5d54edd8bf960e2c4d90428",
      "5a56e6fb550c435098496570d3b0ffbc",
      "be4e374eaaa5431da631662dd277f259",
      "b7788c6a772a4a548c8627dee2e4e730"
     ]
    },
    "executionInfo": {
     "elapsed": 49770,
     "status": "ok",
     "timestamp": 1608557826128,
     "user": {
      "displayName": "딥러닝호형",
      "photoUrl": "",
      "userId": "11263585794403583722"
     },
     "user_tz": -60
    },
    "id": "4F7fkgPrgDbb",
    "outputId": "ecf9b70e-7ae3-4fcb-9752-9dfe8fbaa909"
   },
   "outputs": [],
   "source": [
    "# ResNet18 불러오기 \n",
    "# pretrained=True를 하면 ResNet18 구조와 사전 학습 된 파라메타를 모두 불러온다.\n",
    "# pretrained=False를 하면 ResNet18 구조만 불러온다.\n",
    "# 모델과 텐서에 .to(device)를 붙여야만 GPU 연산이 가능하니 꼭 기입한다.\n",
    "\n",
    "model = torchvision.models.resnet18(pretrained=True)"
   ]
  },
  {
   "cell_type": "code",
   "execution_count": null,
   "metadata": {
    "colab": {
     "base_uri": "https://localhost:8080/"
    },
    "executionInfo": {
     "elapsed": 49769,
     "status": "ok",
     "timestamp": 1608557826130,
     "user": {
      "displayName": "딥러닝호형",
      "photoUrl": "",
      "userId": "11263585794403583722"
     },
     "user_tz": -60
    },
    "id": "jXFeCodvgDbb",
    "outputId": "63bf9e85-ca3f-4372-d55d-f8ba35dd2d06"
   },
   "outputs": [],
   "source": [
    "print(model)"
   ]
  },
  {
   "cell_type": "code",
   "execution_count": null,
   "metadata": {
    "id": "J6EeSE5pgDbc"
   },
   "outputs": [],
   "source": [
    "# 모델의 구조를 보면 마지막 출력 노드가 1000개라는 것을 알 수 있다. \n",
    "# 이는 1000개의 클래스를 가진 ImageNet 데이터를 이용하여 사전학습 된 모델이기 때문이다. \n",
    "# 따라서 우리가 사용하는 CIFAR10 데이터에 맞게 출력층의 노드를 10개로 변경해야만 한다.\n",
    "\n",
    "num_ftrs = model.fc.in_features # fc의 입력 노드 수를 산출한다. 512개\n",
    "model.fc = nn.Linear(num_ftrs, 10) # fc를 nn.Linear(num_ftrs, 10)로 대체한다.\n",
    "model = model.to(device)"
   ]
  },
  {
   "cell_type": "code",
   "execution_count": null,
   "metadata": {
    "colab": {
     "base_uri": "https://localhost:8080/"
    },
    "executionInfo": {
     "elapsed": 49763,
     "status": "ok",
     "timestamp": 1608557826131,
     "user": {
      "displayName": "딥러닝호형",
      "photoUrl": "",
      "userId": "11263585794403583722"
     },
     "user_tz": -60
    },
    "id": "4_gmAIifgDbc",
    "outputId": "699f2b4d-ddee-4ac9-b9ed-8437ec0c66d2"
   },
   "outputs": [],
   "source": [
    "# 출력층의 노드가 10개로 바껴있다.\n",
    "# Linear(in_features=512, out_features=10, bias=True)\n",
    "\n",
    "print(model)"
   ]
  },
  {
   "cell_type": "markdown",
   "metadata": {
    "id": "_FGfxWrWgDbd"
   },
   "source": [
    "## 8.4 손실함수와 최적화 방법 정의"
   ]
  },
  {
   "cell_type": "code",
   "execution_count": null,
   "metadata": {
    "id": "gvVD2RpxgDbd"
   },
   "outputs": [],
   "source": [
    "criterion = nn.CrossEntropyLoss()\n",
    "optimizer = optim.Adam(model.parameters(), lr=1e-4, weight_decay=1e-2)"
   ]
  },
  {
   "cell_type": "markdown",
   "metadata": {
    "id": "V8BCEn70gDbd"
   },
   "source": [
    "## 8.5 사전학습 모델을 이용한 학습"
   ]
  },
  {
   "cell_type": "code",
   "execution_count": null,
   "metadata": {
    "colab": {
     "base_uri": "https://localhost:8080/"
    },
    "executionInfo": {
     "elapsed": 4162422,
     "status": "ok",
     "timestamp": 1608563308380,
     "user": {
      "displayName": "딥러닝호형",
      "photoUrl": "",
      "userId": "11263585794403583722"
     },
     "user_tz": -60
    },
    "id": "6QlAVqrJgDbe",
    "outputId": "0cfb1a84-8310-44f4-8bbb-08cb1650e6e8"
   },
   "outputs": [],
   "source": [
    "for epoch in range(20):\n",
    "\n",
    "    running_loss = 0.0\n",
    "    for data in trainloader:\n",
    "        \n",
    "        inputs, labels = data[0].to(device), data[1].to(device)\n",
    "          \n",
    "        optimizer.zero_grad()\n",
    "        outputs = model(inputs)\n",
    "        loss = criterion(outputs, labels)\n",
    "        loss.backward()\n",
    "        optimizer.step()\n",
    "\n",
    "        running_loss += loss.item()\n",
    "\n",
    "    cost = running_loss / len(trainloader)        \n",
    "    print('[%d] loss: %.3f' %(epoch + 1, cost))  \n",
    "\n",
    "torch.save(model.state_dict(), './models/cifar10_resnet18.pth')      \n",
    "\n",
    "print('Finished Training')"
   ]
  },
  {
   "cell_type": "markdown",
   "metadata": {
    "id": "zSVInOxUgDbe"
   },
   "source": [
    "## 8.6 모델 평가"
   ]
  },
  {
   "cell_type": "code",
   "execution_count": null,
   "metadata": {
    "colab": {
     "base_uri": "https://localhost:8080/"
    },
    "executionInfo": {
     "elapsed": 1093,
     "status": "ok",
     "timestamp": 1608563703861,
     "user": {
      "displayName": "딥러닝호형",
      "photoUrl": "",
      "userId": "11263585794403583722"
     },
     "user_tz": -60
    },
    "id": "ZzT-bUKhhmyu",
    "outputId": "4a481a40-ef79-4d2e-f7fa-dc61df81ae4a"
   },
   "outputs": [],
   "source": [
    "model = torchvision.models.resnet18(pretrained=False)\n",
    "num_ftrs = model.fc.in_features # fc의 입력 노드 수를 산출한다. 512개\n",
    "model.fc = nn.Linear(num_ftrs, 10) # fc를 nn.Linear(num_ftrs, 10)로 대체한다.\n",
    "model = model.to(device)\n",
    "model.load_state_dict(torch.load('./models/cifar10_resnet18.pth'))"
   ]
  },
  {
   "cell_type": "code",
   "execution_count": null,
   "metadata": {
    "colab": {
     "base_uri": "https://localhost:8080/"
    },
    "executionInfo": {
     "elapsed": 40354,
     "status": "ok",
     "timestamp": 1608563769615,
     "user": {
      "displayName": "딥러닝호형",
      "photoUrl": "",
      "userId": "11263585794403583722"
     },
     "user_tz": -60
    },
    "id": "zCm5j6UZgDbe",
    "outputId": "a2231d79-7118-404c-e0f6-47b5cf1fb233"
   },
   "outputs": [],
   "source": [
    "correct = 0\n",
    "total = 0\n",
    "with torch.no_grad():\n",
    "    model.eval()\n",
    "    for data in testloader:\n",
    "        images, labels = data[0].to(device), data[1].to(device)\n",
    "        outputs = model(images)\n",
    "        _, predicted = torch.max(outputs.data, 1)\n",
    "        total += labels.size(0)\n",
    "        correct += (predicted == labels).sum().item()\n",
    "\n",
    "print('Accuracy of the network on the 10000 test images: %d %%' % (100 * correct / total))"
   ]
  },
  {
   "cell_type": "code",
   "execution_count": null,
   "metadata": {
    "id": "r0vhW5bMgDbf"
   },
   "outputs": [],
   "source": []
  }
 ],
 "metadata": {
  "accelerator": "GPU",
  "colab": {
   "collapsed_sections": [],
   "name": "8강 Transfer Learning.ipynb",
   "provenance": []
  },
  "kernelspec": {
   "display_name": "Python 3",
   "language": "python",
   "name": "python3"
  },
  "language_info": {
   "codemirror_mode": {
    "name": "ipython",
    "version": 3
   },
   "file_extension": ".py",
   "mimetype": "text/x-python",
   "name": "python",
   "nbconvert_exporter": "python",
   "pygments_lexer": "ipython3",
   "version": "3.7.4"
  },
  "widgets": {
   "application/vnd.jupyter.widget-state+json": {
    "5a56e6fb550c435098496570d3b0ffbc": {
     "model_module": "@jupyter-widgets/base",
     "model_name": "LayoutModel",
     "state": {
      "_model_module": "@jupyter-widgets/base",
      "_model_module_version": "1.2.0",
      "_model_name": "LayoutModel",
      "_view_count": null,
      "_view_module": "@jupyter-widgets/base",
      "_view_module_version": "1.2.0",
      "_view_name": "LayoutView",
      "align_content": null,
      "align_items": null,
      "align_self": null,
      "border": null,
      "bottom": null,
      "display": null,
      "flex": null,
      "flex_flow": null,
      "grid_area": null,
      "grid_auto_columns": null,
      "grid_auto_flow": null,
      "grid_auto_rows": null,
      "grid_column": null,
      "grid_gap": null,
      "grid_row": null,
      "grid_template_areas": null,
      "grid_template_columns": null,
      "grid_template_rows": null,
      "height": null,
      "justify_content": null,
      "justify_items": null,
      "left": null,
      "margin": null,
      "max_height": null,
      "max_width": null,
      "min_height": null,
      "min_width": null,
      "object_fit": null,
      "object_position": null,
      "order": null,
      "overflow": null,
      "overflow_x": null,
      "overflow_y": null,
      "padding": null,
      "right": null,
      "top": null,
      "visibility": null,
      "width": null
     }
    },
    "5df10a3a4466436fbe79a1ff7144229a": {
     "model_module": "@jupyter-widgets/controls",
     "model_name": "FloatProgressModel",
     "state": {
      "_dom_classes": [],
      "_model_module": "@jupyter-widgets/controls",
      "_model_module_version": "1.5.0",
      "_model_name": "FloatProgressModel",
      "_view_count": null,
      "_view_module": "@jupyter-widgets/controls",
      "_view_module_version": "1.5.0",
      "_view_name": "ProgressView",
      "bar_style": "success",
      "description": "100%",
      "description_tooltip": null,
      "layout": "IPY_MODEL_5a56e6fb550c435098496570d3b0ffbc",
      "max": 46827520,
      "min": 0,
      "orientation": "horizontal",
      "style": "IPY_MODEL_632feef6c5d54edd8bf960e2c4d90428",
      "value": 46827520
     }
    },
    "632feef6c5d54edd8bf960e2c4d90428": {
     "model_module": "@jupyter-widgets/controls",
     "model_name": "ProgressStyleModel",
     "state": {
      "_model_module": "@jupyter-widgets/controls",
      "_model_module_version": "1.5.0",
      "_model_name": "ProgressStyleModel",
      "_view_count": null,
      "_view_module": "@jupyter-widgets/base",
      "_view_module_version": "1.2.0",
      "_view_name": "StyleView",
      "bar_color": null,
      "description_width": "initial"
     }
    },
    "a6dd07cd17224fc381ead72762cef581": {
     "model_module": "@jupyter-widgets/controls",
     "model_name": "HTMLModel",
     "state": {
      "_dom_classes": [],
      "_model_module": "@jupyter-widgets/controls",
      "_model_module_version": "1.5.0",
      "_model_name": "HTMLModel",
      "_view_count": null,
      "_view_module": "@jupyter-widgets/controls",
      "_view_module_version": "1.5.0",
      "_view_name": "HTMLView",
      "description": "",
      "description_tooltip": null,
      "layout": "IPY_MODEL_b7788c6a772a4a548c8627dee2e4e730",
      "placeholder": "​",
      "style": "IPY_MODEL_be4e374eaaa5431da631662dd277f259",
      "value": " 44.7M/44.7M [00:00&lt;00:00, 73.1MB/s]"
     }
    },
    "b0bfbcbf9b0c4d8faa8f032215ae3705": {
     "model_module": "@jupyter-widgets/base",
     "model_name": "LayoutModel",
     "state": {
      "_model_module": "@jupyter-widgets/base",
      "_model_module_version": "1.2.0",
      "_model_name": "LayoutModel",
      "_view_count": null,
      "_view_module": "@jupyter-widgets/base",
      "_view_module_version": "1.2.0",
      "_view_name": "LayoutView",
      "align_content": null,
      "align_items": null,
      "align_self": null,
      "border": null,
      "bottom": null,
      "display": null,
      "flex": null,
      "flex_flow": null,
      "grid_area": null,
      "grid_auto_columns": null,
      "grid_auto_flow": null,
      "grid_auto_rows": null,
      "grid_column": null,
      "grid_gap": null,
      "grid_row": null,
      "grid_template_areas": null,
      "grid_template_columns": null,
      "grid_template_rows": null,
      "height": null,
      "justify_content": null,
      "justify_items": null,
      "left": null,
      "margin": null,
      "max_height": null,
      "max_width": null,
      "min_height": null,
      "min_width": null,
      "object_fit": null,
      "object_position": null,
      "order": null,
      "overflow": null,
      "overflow_x": null,
      "overflow_y": null,
      "padding": null,
      "right": null,
      "top": null,
      "visibility": null,
      "width": null
     }
    },
    "b7788c6a772a4a548c8627dee2e4e730": {
     "model_module": "@jupyter-widgets/base",
     "model_name": "LayoutModel",
     "state": {
      "_model_module": "@jupyter-widgets/base",
      "_model_module_version": "1.2.0",
      "_model_name": "LayoutModel",
      "_view_count": null,
      "_view_module": "@jupyter-widgets/base",
      "_view_module_version": "1.2.0",
      "_view_name": "LayoutView",
      "align_content": null,
      "align_items": null,
      "align_self": null,
      "border": null,
      "bottom": null,
      "display": null,
      "flex": null,
      "flex_flow": null,
      "grid_area": null,
      "grid_auto_columns": null,
      "grid_auto_flow": null,
      "grid_auto_rows": null,
      "grid_column": null,
      "grid_gap": null,
      "grid_row": null,
      "grid_template_areas": null,
      "grid_template_columns": null,
      "grid_template_rows": null,
      "height": null,
      "justify_content": null,
      "justify_items": null,
      "left": null,
      "margin": null,
      "max_height": null,
      "max_width": null,
      "min_height": null,
      "min_width": null,
      "object_fit": null,
      "object_position": null,
      "order": null,
      "overflow": null,
      "overflow_x": null,
      "overflow_y": null,
      "padding": null,
      "right": null,
      "top": null,
      "visibility": null,
      "width": null
     }
    },
    "be4e374eaaa5431da631662dd277f259": {
     "model_module": "@jupyter-widgets/controls",
     "model_name": "DescriptionStyleModel",
     "state": {
      "_model_module": "@jupyter-widgets/controls",
      "_model_module_version": "1.5.0",
      "_model_name": "DescriptionStyleModel",
      "_view_count": null,
      "_view_module": "@jupyter-widgets/base",
      "_view_module_version": "1.2.0",
      "_view_name": "StyleView",
      "description_width": ""
     }
    },
    "e5be1f99736e4fbea8ce99af78acb886": {
     "model_module": "@jupyter-widgets/controls",
     "model_name": "HBoxModel",
     "state": {
      "_dom_classes": [],
      "_model_module": "@jupyter-widgets/controls",
      "_model_module_version": "1.5.0",
      "_model_name": "HBoxModel",
      "_view_count": null,
      "_view_module": "@jupyter-widgets/controls",
      "_view_module_version": "1.5.0",
      "_view_name": "HBoxView",
      "box_style": "",
      "children": [
       "IPY_MODEL_5df10a3a4466436fbe79a1ff7144229a",
       "IPY_MODEL_a6dd07cd17224fc381ead72762cef581"
      ],
      "layout": "IPY_MODEL_b0bfbcbf9b0c4d8faa8f032215ae3705"
     }
    }
   }
  }
 },
 "nbformat": 4,
 "nbformat_minor": 1
}
